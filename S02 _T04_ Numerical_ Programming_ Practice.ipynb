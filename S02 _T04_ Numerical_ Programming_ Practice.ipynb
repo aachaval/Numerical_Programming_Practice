{
 "cells": [
  {
   "cell_type": "markdown",
   "id": "c4baeba6",
   "metadata": {},
   "source": [
    "# Sprint 2 Task 4 (S02_T04)\n",
    "\n",
    "Author: *Alberto Achaval*"
   ]
  },
  {
   "cell_type": "markdown",
   "id": "39d699ee",
   "metadata": {},
   "source": [
    "## Level 1 "
   ]
  },
  {
   "cell_type": "markdown",
   "id": "62aafc98",
   "metadata": {},
   "source": [
    "### Practice 1"
   ]
  },
  {
   "cell_type": "code",
   "execution_count": 95,
   "id": "c0b4106b",
   "metadata": {},
   "outputs": [
    {
     "name": "stdout",
     "output_type": "stream",
     "text": [
      "Mean temperature is = 15.66 ºC, with  2.06 standard deviation\n",
      "Max value = 19.0 and Min value = 12.6\n",
      "Median =  15.0\n"
     ]
    }
   ],
   "source": [
    "# Array statistical summary\n",
    "\n",
    "import numpy as np\n",
    "\n",
    "def stat_summary(temp):\n",
    "    if temp.ndim != 1:\n",
    "        print('Fail! Array should be one dimension...')\n",
    "    else:\n",
    "        print('Mean temperature is =', round(np.mean(temp),2), 'ºC, with ', round(np.std(temp),2),'standard deviation')\n",
    "        print('Max value = {} and Min value = {}'.format(np.max(temp), np.min(temp)))\n",
    "        print('Median = ', np.median(temp))\n",
    "                \n",
    "\n",
    "temp = np.array([15,16,15,14,12.6,18,19])\n",
    "stat_summary(temp)\n",
    "\n"
   ]
  },
  {
   "cell_type": "markdown",
   "id": "8ab91f27",
   "metadata": {},
   "source": [
    "### Practice 2"
   ]
  },
  {
   "cell_type": "code",
   "execution_count": 49,
   "id": "0009ff38",
   "metadata": {},
   "outputs": [
    {
     "name": "stdout",
     "output_type": "stream",
     "text": [
      "[[  2  62  84  37  83  56  21  35  87  24]\n",
      " [ 16  90   8  32  10  71  87   9  61  35]\n",
      " [ 41  74  76  81  40   5  57  42  75  55]\n",
      " [ 45  32  44  85  58  22  62  36  45  85]\n",
      " [ 37  33  43  49  59  76  18  91  83 100]\n",
      " [ 82  22  84  11  68  59  87  36  78  21]\n",
      " [ 39  17  77  20  57  74  34  27  65  42]\n",
      " [ 54  76  93   3  37  72  85  92  75  14]\n",
      " [ 75  95  98  76   0  58  93  24  87  83]\n",
      " [ 15  63  15  92  44  98  43  52  48   2]]\n",
      "[[75 98 56]\n",
      " [36 68 54]\n",
      " [93 29 71]]\n"
     ]
    }
   ],
   "source": [
    "# Random matrix function, size n x n\n",
    "\n",
    "def matrix_nn(cols_rows):\n",
    "    matrix = np.random.randint(0, 101, size=(cols_rows, cols_rows))\n",
    "    print(matrix)\n",
    "    \n",
    "matrix_nn(10)\n",
    "matrix_nn(3)\n"
   ]
  },
  {
   "cell_type": "markdown",
   "id": "279757d1",
   "metadata": {},
   "source": [
    "### Practice 3"
   ]
  },
  {
   "cell_type": "code",
   "execution_count": 92,
   "id": "de6817a8",
   "metadata": {},
   "outputs": [
    {
     "name": "stdout",
     "output_type": "stream",
     "text": [
      "[[ 4 10  2  4  6]\n",
      " [ 5  0  6  5  7]\n",
      " [ 5  2  9 10  5]] \n",
      "\n",
      "Row number 1 adds = 26\n",
      "Row number 2 adds = 23\n",
      "Row number 3 adds = 31\n",
      "\n",
      "\n",
      "Column number 1 adds = 14\n",
      "Column number 2 adds = 12\n",
      "Column number 3 adds = 17\n",
      "Column number 4 adds = 19\n",
      "Column number 5 adds = 18\n"
     ]
    }
   ],
   "source": [
    "# Rows and columns addition\n",
    "\n",
    "def addition(table):\n",
    "    for i in range (np.shape(table)[0]): \n",
    "        print(f'Row number {i+1} adds = {table[i,:].sum()}') # Option sum(table, axis = 1)\n",
    "    print('\\n')    \n",
    "    for i in range (np.shape(table)[1]):\n",
    "        print(f\"Column number {i+1} adds = {table[:,i].sum()}\") # Option sum(table, axis = 0)\n",
    "\n",
    "table = np.random.randint(11,size=(3,5)) # 2 dim matrix\n",
    "print(table,'\\n')\n",
    "addition(table) # Call the function\n",
    "\n"
   ]
  },
  {
   "cell_type": "markdown",
   "id": "2e4960ac",
   "metadata": {},
   "source": [
    "### Practice 4"
   ]
  },
  {
   "cell_type": "markdown",
   "id": "2950e6aa",
   "metadata": {},
   "source": [
    "##### Correlation Coefficient\n",
    "\n",
    "Correlation coefficient formulas are used to find how strong a ***linear*** relationship is between data. The formulas return a value between -1 and 1, where:\n",
    "\n",
    "* 1 indicates a strong positive relationship.\n",
    "* -1 indicates a strong negative relationship.\n",
    "* 0 indicates no relationship at all.\n",
    "\n",
    "\n",
    "\n",
    "![Correlation](https://www.statisticshowto.com/wp-content/uploads/2012/10/pearson-2-small.png)\n",
    "\n",
    "\n",
    "The absolute value of the correlation coefficient gives us the relationship strength. "
   ]
  },
  {
   "attachments": {
    "image.png": {
     "image/png": "[encoded data removed]"
    }
   },
   "cell_type": "markdown",
   "id": "fa25fc10",
   "metadata": {},
   "source": [
    "For this example I'm going to use this formula and the following data:\n",
    "\n",
    "![image.png](attachment:image.png)"
   ]
  },
  {
   "cell_type": "markdown",
   "id": "60f42fa0",
   "metadata": {},
   "source": [
    "<img align=\"left\" src=\"example.jpg\">"
   ]
  },
  {
   "cell_type": "code",
   "execution_count": 163,
   "id": "5898b1f3",
   "metadata": {},
   "outputs": [
    {
     "name": "stdout",
     "output_type": "stream",
     "text": [
      "Correlation (rxy) = 0.53\n"
     ]
    }
   ],
   "source": [
    "# Correlation function\n",
    "\n",
    "def correlation(x,y):\n",
    "    mx, my = np.mean(x), np.mean(y) # x, y mean\n",
    "    a, b = x - mx, y - my # (xi - xm), (yi - ym)\n",
    "    numerator = np.sum(a * b)\n",
    "    denominator = np.sqrt(np.sum(np.power(a, 2)) * np.sum(np.power(b, 2)))\n",
    "    print(f'Correlation (rxy) = {round(numerator/denominator, 2)}')\n",
    "    \n",
    "\n",
    "x = np.array([43, 21, 25, 42, 57, 59])\n",
    "y = np.array([99, 65, 79, 75, 87, 81])    \n",
    "correlation(x,y)\n"
   ]
  },
  {
   "cell_type": "markdown",
   "id": "c751e1f0",
   "metadata": {},
   "source": [
    "rxy = 0.53 indicates a medium-strong positive ***linear*** correlation between x and y. This is a small sample. "
   ]
  },
  {
   "cell_type": "code",
   "execution_count": 154,
   "id": "59b399b3",
   "metadata": {},
   "outputs": [
    {
     "name": "stdout",
     "output_type": "stream",
     "text": [
      "Correlation (rxy) = 1.0\n"
     ]
    }
   ],
   "source": [
    "# Another test with y as a multiple of x so rxy should be 1\n",
    "\n",
    "x2 = np.random.uniform(-100, 101, 1000)\n",
    "y2 = 3 * x2\n",
    "\n",
    "correlation(x2, y2)"
   ]
  },
  {
   "cell_type": "code",
   "execution_count": 157,
   "id": "991ccfa9",
   "metadata": {},
   "outputs": [
    {
     "name": "stdout",
     "output_type": "stream",
     "text": [
      "Correlation (rxy) = 0.01\n"
     ]
    }
   ],
   "source": [
    "## Another test with y as a quadratic multiple of x so rxy should be near 0\n",
    "\n",
    "x2 = np.random.uniform(-100, 101, 1000)\n",
    "y2 = x2 * x2\n",
    "\n",
    "correlation(x2, y2)"
   ]
  },
  {
   "cell_type": "code",
   "execution_count": 167,
   "id": "74b3b7f7",
   "metadata": {},
   "outputs": [
    {
     "data": {
      "text/plain": [
       "<function matplotlib.pyplot.show(close=None, block=None)>"
      ]
     },
     "execution_count": 167,
     "metadata": {},
     "output_type": "execute_result"
    },
    {
     "data": {
      "image/png": "[encoded data removed]",
      "text/plain": [
       "<Figure size 432x288 with 1 Axes>"
      ]
     },
     "metadata": {
      "needs_background": "light"
     },
     "output_type": "display_data"
    }
   ],
   "source": [
    "# A graph to show this last result\n",
    "\n",
    "from matplotlib import pyplot as plt\n",
    "plt.scatter(x2, y2) # Scatter plot \n",
    "m, b = np.polyfit(x2, y2, 1) # Calculate slope(m) & intercept(b)\n",
    "plt.plot(x2, m*x2+b) # Add linear correlation\n",
    "plt.show"
   ]
  }
 ],
 "metadata": {
  "kernelspec": {
   "display_name": "Python 3 (ipykernel)",
   "language": "python",
   "name": "python3"
  },
  "language_info": {
   "codemirror_mode": {
    "name": "ipython",
    "version": 3
   },
   "file_extension": ".py",
   "mimetype": "text/x-python",
   "name": "python",
   "nbconvert_exporter": "python",
   "pygments_lexer": "ipython3",
   "version": "3.9.7"
  }
 },
 "nbformat": 4,
 "nbformat_minor": 5
}
